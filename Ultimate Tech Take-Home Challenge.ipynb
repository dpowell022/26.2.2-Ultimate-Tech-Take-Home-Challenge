{
 "cells": [
  {
   "cell_type": "markdown",
   "id": "98880025",
   "metadata": {},
   "source": [
    "## Part 1 - Exploratory Data Analysis"
   ]
  },
  {
   "cell_type": "code",
   "execution_count": 100,
   "id": "d3a42e6a",
   "metadata": {},
   "outputs": [],
   "source": [
    "# BASIC PACKAGES\n",
    "import pandas as pd\n",
    "import numpy as np\n",
    "import missingno as msno\n",
    "from collections import Counter\n",
    "from datetime import datetime\n",
    "\n",
    "# VISUALIZATION PACKAGES\n",
    "import scikitplot as skplt\n",
    "import seaborn as sns\n",
    "import matplotlib.pyplot as plt"
   ]
  },
  {
   "cell_type": "code",
   "execution_count": 2,
   "id": "5fb67240",
   "metadata": {},
   "outputs": [],
   "source": [
    "df1 = pd.read_json(\"logins.json\")"
   ]
  },
  {
   "cell_type": "code",
   "execution_count": 11,
   "id": "086fb929",
   "metadata": {},
   "outputs": [
    {
     "data": {
      "text/plain": [
       "login_time    0\n",
       "dtype: int64"
      ]
     },
     "execution_count": 11,
     "metadata": {},
     "output_type": "execute_result"
    }
   ],
   "source": [
    "#check for missing values\n",
    "df1.isna().sum()"
   ]
  },
  {
   "cell_type": "code",
   "execution_count": 68,
   "id": "189025af",
   "metadata": {},
   "outputs": [],
   "source": [
    "#since no missing values, proceed with partitioning\n",
    "df1['hour'] = df1.login_time.dt.hour\n",
    "df1['15min_interval'] = [(int(i.minute / 15) + 1) * 15 for i in df1.login_time]"
   ]
  },
  {
   "cell_type": "code",
   "execution_count": 84,
   "id": "26348743",
   "metadata": {},
   "outputs": [
    {
     "data": {
      "text/plain": [
       "<AxesSubplot:title={'center':'Login Distribution by Interval'}, xlabel='hour,15min_interval', ylabel='Count'>"
      ]
     },
     "execution_count": 84,
     "metadata": {},
     "output_type": "execute_result"
    },
    {
     "data": {
      "image/png": "[encoded data removed]",
      "text/plain": [
       "<Figure size 1296x576 with 1 Axes>"
      ]
     },
     "metadata": {},
     "output_type": "display_data"
    }
   ],
   "source": [
    "#plot counts of login times per 15 minute inteval\n",
    "fig, axs = plt.subplots(figsize=(18, 8))\n",
    "fig.patch.set_facecolor('white')\n",
    "axs.set_xlabel('Count by 15-minute Interval')\n",
    "axs.set_ylabel('Count')\n",
    "axs.set_title('Login Distribution by Interval')\n",
    "df1.groupby([df1[\"hour\"], df1['15min_interval']]).count().plot(kind='bar', rot=90, ax=axs)"
   ]
  },
  {
   "cell_type": "markdown",
   "id": "6d3a0256",
   "metadata": {},
   "source": [
    "From the above, we can see that login traffic peaks primarily between the hours of 21:00 and 04:00, with another brief peak around 11:00. Significant lulls occur between 05:00 and 11:00 and again between 13:00 and 21:00. "
   ]
  },
  {
   "cell_type": "markdown",
   "id": "9b69e6c4",
   "metadata": {},
   "source": [
    "## Part 2 - Experiment metrics and Design "
   ]
  },
  {
   "cell_type": "markdown",
   "id": "0cfe9187",
   "metadata": {},
   "source": [
    "1. I suppose that the underlying data not available in this exercise would show the location of drivers (which city) when they logged into the driver app to receive fares. As a success metric, I would evaluate the ratio of logins by city by driver. In pre-experiment data, it is descrived that there is a strong bias of each driver ID in terms of what city they log in from. I would expect to see a lop-sided ratio per driver, on average, and so to measure the success of the experiment, we would want to see that ratio become more balanced, especially on weekends when both cities have reasonable activity, and the metric should be approaching a 50/50 split if possible. \n",
    "2. If we have data on the 'home city' of each driver, then we can assemble a table to measure the effectiveness of the experiment. Fares taken by drivers in their home city and fares taken by drivers in their 'away' city. This test would be indifferent to the home city of the drivers, and assumes the population sizes are similar. If not, we would have to run two sets of tests for the population of drivers from each city. Our null hypothesis would be that paying for the bridge tolls for a group of drivers would not affect their ratios of 'home fares' to 'away fares'. We could use any amount of historical data, in 2 week increments (to support our coming A-B test) to get a baseline of what p-values we should expect, or that is, what variation occurs in the data by chance.\n",
    "3. To gather data necessary to reject or suppor the null hypothesis, we can perform an A-B test, giving 'toll immunity' to some portion of the population(s) of drivers and monitor for 2 weeks. Our driver population without toll reimbursement is our control group, and our driver population with reimbursed tolls is our test group. After 2 weeks, we can compare the data between our test and control group. Did our values vary with statistical significance between our test and control groups? If our p-value of the A-B test data is <0.05, we can confidently say that the experiment did affect the driver behavior.\n",
    "4. If the results of the A-B are positive, that the experiment did confidently affect driver behavior, my recommendations to the city ops teams would be to then seriously consider the scope of the difference. Significance testing does not indicate the magnitude of the difference, only that the difference is statistically significant. Further consideration would have to be given to the results in deciding whether the cost of the experiment achieved the desired results or not, and if so, how to then move forward with full-scale implementation."
   ]
  },
  {
   "cell_type": "markdown",
   "id": "43f3fbfa",
   "metadata": {},
   "source": [
    "## Part 3 - Predictive Modeling"
   ]
  },
  {
   "cell_type": "code",
   "execution_count": 85,
   "id": "e74cd0d8",
   "metadata": {},
   "outputs": [],
   "source": [
    "df2 = pd.read_json('ultimate_data_challenge.json')"
   ]
  },
  {
   "cell_type": "code",
   "execution_count": 86,
   "id": "051bdb68",
   "metadata": {},
   "outputs": [
    {
     "data": {
      "text/html": [
       "<div>\n",
       "<style scoped>\n",
       "    .dataframe tbody tr th:only-of-type {\n",
       "        vertical-align: middle;\n",
       "    }\n",
       "\n",
       "    .dataframe tbody tr th {\n",
       "        vertical-align: top;\n",
       "    }\n",
       "\n",
       "    .dataframe thead th {\n",
       "        text-align: right;\n",
       "    }\n",
       "</style>\n",
       "<table border=\"1\" class=\"dataframe\">\n",
       "  <thead>\n",
       "    <tr style=\"text-align: right;\">\n",
       "      <th></th>\n",
       "      <th>city</th>\n",
       "      <th>trips_in_first_30_days</th>\n",
       "      <th>signup_date</th>\n",
       "      <th>avg_rating_of_driver</th>\n",
       "      <th>avg_surge</th>\n",
       "      <th>last_trip_date</th>\n",
       "      <th>phone</th>\n",
       "      <th>surge_pct</th>\n",
       "      <th>ultimate_black_user</th>\n",
       "      <th>weekday_pct</th>\n",
       "      <th>avg_dist</th>\n",
       "      <th>avg_rating_by_driver</th>\n",
       "    </tr>\n",
       "  </thead>\n",
       "  <tbody>\n",
       "    <tr>\n",
       "      <th>0</th>\n",
       "      <td>King's Landing</td>\n",
       "      <td>4</td>\n",
       "      <td>2014-01-25</td>\n",
       "      <td>4.7</td>\n",
       "      <td>1.10</td>\n",
       "      <td>2014-06-17</td>\n",
       "      <td>iPhone</td>\n",
       "      <td>15.4</td>\n",
       "      <td>True</td>\n",
       "      <td>46.2</td>\n",
       "      <td>3.67</td>\n",
       "      <td>5.0</td>\n",
       "    </tr>\n",
       "    <tr>\n",
       "      <th>1</th>\n",
       "      <td>Astapor</td>\n",
       "      <td>0</td>\n",
       "      <td>2014-01-29</td>\n",
       "      <td>5.0</td>\n",
       "      <td>1.00</td>\n",
       "      <td>2014-05-05</td>\n",
       "      <td>Android</td>\n",
       "      <td>0.0</td>\n",
       "      <td>False</td>\n",
       "      <td>50.0</td>\n",
       "      <td>8.26</td>\n",
       "      <td>5.0</td>\n",
       "    </tr>\n",
       "    <tr>\n",
       "      <th>2</th>\n",
       "      <td>Astapor</td>\n",
       "      <td>3</td>\n",
       "      <td>2014-01-06</td>\n",
       "      <td>4.3</td>\n",
       "      <td>1.00</td>\n",
       "      <td>2014-01-07</td>\n",
       "      <td>iPhone</td>\n",
       "      <td>0.0</td>\n",
       "      <td>False</td>\n",
       "      <td>100.0</td>\n",
       "      <td>0.77</td>\n",
       "      <td>5.0</td>\n",
       "    </tr>\n",
       "    <tr>\n",
       "      <th>3</th>\n",
       "      <td>King's Landing</td>\n",
       "      <td>9</td>\n",
       "      <td>2014-01-10</td>\n",
       "      <td>4.6</td>\n",
       "      <td>1.14</td>\n",
       "      <td>2014-06-29</td>\n",
       "      <td>iPhone</td>\n",
       "      <td>20.0</td>\n",
       "      <td>True</td>\n",
       "      <td>80.0</td>\n",
       "      <td>2.36</td>\n",
       "      <td>4.9</td>\n",
       "    </tr>\n",
       "    <tr>\n",
       "      <th>4</th>\n",
       "      <td>Winterfell</td>\n",
       "      <td>14</td>\n",
       "      <td>2014-01-27</td>\n",
       "      <td>4.4</td>\n",
       "      <td>1.19</td>\n",
       "      <td>2014-03-15</td>\n",
       "      <td>Android</td>\n",
       "      <td>11.8</td>\n",
       "      <td>False</td>\n",
       "      <td>82.4</td>\n",
       "      <td>3.13</td>\n",
       "      <td>4.9</td>\n",
       "    </tr>\n",
       "  </tbody>\n",
       "</table>\n",
       "</div>"
      ],
      "text/plain": [
       "             city  trips_in_first_30_days signup_date  avg_rating_of_driver  \\\n",
       "0  King's Landing                       4  2014-01-25                   4.7   \n",
       "1         Astapor                       0  2014-01-29                   5.0   \n",
       "2         Astapor                       3  2014-01-06                   4.3   \n",
       "3  King's Landing                       9  2014-01-10                   4.6   \n",
       "4      Winterfell                      14  2014-01-27                   4.4   \n",
       "\n",
       "   avg_surge last_trip_date    phone  surge_pct  ultimate_black_user  \\\n",
       "0       1.10     2014-06-17   iPhone       15.4                 True   \n",
       "1       1.00     2014-05-05  Android        0.0                False   \n",
       "2       1.00     2014-01-07   iPhone        0.0                False   \n",
       "3       1.14     2014-06-29   iPhone       20.0                 True   \n",
       "4       1.19     2014-03-15  Android       11.8                False   \n",
       "\n",
       "   weekday_pct  avg_dist  avg_rating_by_driver  \n",
       "0         46.2      3.67                   5.0  \n",
       "1         50.0      8.26                   5.0  \n",
       "2        100.0      0.77                   5.0  \n",
       "3         80.0      2.36                   4.9  \n",
       "4         82.4      3.13                   4.9  "
      ]
     },
     "execution_count": 86,
     "metadata": {},
     "output_type": "execute_result"
    }
   ],
   "source": [
    "df2.head()"
   ]
  },
  {
   "cell_type": "code",
   "execution_count": 87,
   "id": "4363dcb6",
   "metadata": {},
   "outputs": [
    {
     "data": {
      "text/plain": [
       "(50000, 12)"
      ]
     },
     "execution_count": 87,
     "metadata": {},
     "output_type": "execute_result"
    }
   ],
   "source": [
    "df2.shape"
   ]
  },
  {
   "cell_type": "code",
   "execution_count": 89,
   "id": "9246dce4",
   "metadata": {},
   "outputs": [
    {
     "data": {
      "text/plain": [
       "city                       object\n",
       "trips_in_first_30_days      int64\n",
       "signup_date                object\n",
       "avg_rating_of_driver      float64\n",
       "avg_surge                 float64\n",
       "last_trip_date             object\n",
       "phone                      object\n",
       "surge_pct                 float64\n",
       "ultimate_black_user          bool\n",
       "weekday_pct               float64\n",
       "avg_dist                  float64\n",
       "avg_rating_by_driver      float64\n",
       "dtype: object"
      ]
     },
     "execution_count": 89,
     "metadata": {},
     "output_type": "execute_result"
    }
   ],
   "source": [
    "df2.dtypes"
   ]
  },
  {
   "cell_type": "code",
   "execution_count": 95,
   "id": "d91bf766",
   "metadata": {},
   "outputs": [
    {
     "data": {
      "text/plain": [
       "<AxesSubplot:title={'center':'Missing Values'}, xlabel='Columns', ylabel='Percentage / Count'>"
      ]
     },
     "execution_count": 95,
     "metadata": {},
     "output_type": "execute_result"
    },
    {
     "data": {
      "image/png": "[encoded data removed]",
      "text/plain": [
       "<Figure size 1728x720 with 3 Axes>"
      ]
     },
     "metadata": {},
     "output_type": "display_data"
    }
   ],
   "source": [
    "fig, ax = plt.subplots()\n",
    "fig.patch.set_facecolor('white')\n",
    "ax.set_xlabel('Columns')\n",
    "ax.set_ylabel('Percentage / Count')\n",
    "ax.set_title('Missing Values')\n",
    "msno.bar(df2, color='green')"
   ]
  },
  {
   "cell_type": "code",
   "execution_count": 183,
   "id": "94201c2a",
   "metadata": {},
   "outputs": [],
   "source": [
    "#fill missing values in avg ratings with mean()\n",
    "df2.avg_rating_of_driver.fillna(df2.avg_rating_of_driver.median(), inplace=True)\n",
    "df2.avg_rating_by_driver.fillna(df2.avg_rating_by_driver.median(), inplace=True)"
   ]
  },
  {
   "cell_type": "code",
   "execution_count": 184,
   "id": "1e0f708c",
   "metadata": {},
   "outputs": [],
   "source": [
    "#convert last_trip_date to datetime object\n",
    "df2['last_trip_date'] = pd.to_datetime(df2['last_trip_date'])"
   ]
  },
  {
   "cell_type": "code",
   "execution_count": 185,
   "id": "91ea838e",
   "metadata": {},
   "outputs": [
    {
     "data": {
      "text/plain": [
       "6    18256\n",
       "1    10147\n",
       "5     7585\n",
       "4     4588\n",
       "3     4568\n",
       "2     4308\n",
       "7      548\n",
       "Name: last_trip_date, dtype: int64"
      ]
     },
     "execution_count": 185,
     "metadata": {},
     "output_type": "execute_result"
    }
   ],
   "source": [
    "#check distribution of months in the dataset\n",
    "df2.last_trip_date.dt.month.value_counts()"
   ]
  },
  {
   "cell_type": "code",
   "execution_count": 186,
   "id": "ef59a498",
   "metadata": {},
   "outputs": [
    {
     "data": {
      "text/plain": [
       "Timestamp('2014-07-01 00:00:00')"
      ]
     },
     "execution_count": 186,
     "metadata": {},
     "output_type": "execute_result"
    }
   ],
   "source": [
    "#check most recent date, to understand when data was pulled\n",
    "df2.last_trip_date.max()"
   ]
  },
  {
   "cell_type": "markdown",
   "id": "b84a172d",
   "metadata": {},
   "source": [
    "Since the most recent trip data seems to indicate the data was pulled on Jul-01, we will count back 31 days and include all of June and Jul-01 as 'retained'"
   ]
  },
  {
   "cell_type": "code",
   "execution_count": 187,
   "id": "ece20bfc",
   "metadata": {},
   "outputs": [
    {
     "name": "stderr",
     "output_type": "stream",
     "text": [
      "C:\\Users\\DP185257\\AppData\\Local\\Temp/ipykernel_4476/1505254081.py:5: SettingWithCopyWarning: \n",
      "A value is trying to be set on a copy of a slice from a DataFrame\n",
      "\n",
      "See the caveats in the documentation: https://pandas.pydata.org/pandas-docs/stable/user_guide/indexing.html#returning-a-view-versus-a-copy\n",
      "  df2.retained[i] = 1\n"
     ]
    }
   ],
   "source": [
    "#add column for the binary target variable\n",
    "df2['retained'] = 0\n",
    "for i in range(len(df2.retained)):\n",
    "    if (df2.last_trip_date[i].month == 6) or (df2.last_trip_date[i].month == 7):\n",
    "        df2.retained[i] = 1"
   ]
  },
  {
   "cell_type": "code",
   "execution_count": 188,
   "id": "9d783138",
   "metadata": {},
   "outputs": [
    {
     "data": {
      "image/png": "[encoded data removed]",
      "text/plain": [
       "<Figure size 432x288 with 1 Axes>"
      ]
     },
     "metadata": {},
     "output_type": "display_data"
    }
   ],
   "source": [
    "fig = plt.figure()\n",
    "fig.patch.set_facecolor('white')\n",
    "ax = sns.countplot(x='retained', data=df2, palette='Greens_d')\n",
    "ax.xaxis.set_ticklabels(['No', 'Yes']);\n",
    "plt.show()"
   ]
  },
  {
   "cell_type": "markdown",
   "id": "656138e5",
   "metadata": {},
   "source": [
    "We can see that approximately 38% of the customers from January were retained"
   ]
  },
  {
   "cell_type": "code",
   "execution_count": 189,
   "id": "aaa23f2b",
   "metadata": {},
   "outputs": [
    {
     "name": "stdout",
     "output_type": "stream",
     "text": [
      "Avg trips in first 30 days for churned users: 1.66\n",
      "Avg trips in first 30 days for retained users: 3.31\n"
     ]
    }
   ],
   "source": [
    "#EDA on churned vs retained users\n",
    "\n",
    "print('Avg trips in first 30 days for churned users:', \n",
    "      round(df2[df2['retained'] == 0].trips_in_first_30_days.mean(),2))\n",
    "print('Avg trips in first 30 days for retained users:', \n",
    "      round(df2[df2['retained'] == 1].trips_in_first_30_days.mean(),2))"
   ]
  },
  {
   "cell_type": "markdown",
   "id": "31a55e28",
   "metadata": {},
   "source": [
    "Retained users were utilizing ride services at double the rate in their first month when compared to users who eventually churned"
   ]
  },
  {
   "cell_type": "code",
   "execution_count": 190,
   "id": "762976bf",
   "metadata": {},
   "outputs": [
    {
     "name": "stdout",
     "output_type": "stream",
     "text": [
      "Avg rating given to drivers by churned users: 4.67\n",
      "Avg rating given to drivers by retained users: 4.62\n"
     ]
    }
   ],
   "source": [
    "print('Avg rating given to drivers by churned users:', \n",
    "      round(df2[df2['retained'] == 0].avg_rating_of_driver.mean(),2))\n",
    "print('Avg rating given to drivers by retained users:', \n",
    "      round(df2[df2['retained'] == 1].avg_rating_of_driver.mean(),2))"
   ]
  },
  {
   "cell_type": "markdown",
   "id": "409fd2d6",
   "metadata": {},
   "source": [
    "There does not seem to be any notable relationship here. Churned users did not get a far worse set of drivers than retained users"
   ]
  },
  {
   "cell_type": "code",
   "execution_count": 191,
   "id": "442d2134",
   "metadata": {},
   "outputs": [
    {
     "data": {
      "image/png": "[encoded data removed]",
      "text/plain": [
       "<Figure size 432x288 with 1 Axes>"
      ]
     },
     "metadata": {},
     "output_type": "display_data"
    }
   ],
   "source": [
    "fig = plt.figure()\n",
    "fig.patch.set_facecolor('white')\n",
    "ax = sns.countplot(x='phone', hue='retained', data=df2, palette='Greens_d')"
   ]
  },
  {
   "cell_type": "markdown",
   "id": "937d4a45",
   "metadata": {},
   "source": [
    "Looks like users on Android churned at a much higher rate than users on iPhone. Perhaps the Android app is buggy or suffers from poor UX"
   ]
  },
  {
   "cell_type": "code",
   "execution_count": 192,
   "id": "126f7b6d",
   "metadata": {},
   "outputs": [
    {
     "data": {
      "image/png": "[encoded data removed]",
      "text/plain": [
       "<Figure size 432x288 with 1 Axes>"
      ]
     },
     "metadata": {},
     "output_type": "display_data"
    }
   ],
   "source": [
    "fig = plt.figure()\n",
    "fig.patch.set_facecolor('white')\n",
    "ax = sns.countplot(x='city', hue='retained', data=df2, palette='Greens_d')"
   ]
  },
  {
   "cell_type": "markdown",
   "id": "03915db7",
   "metadata": {},
   "source": [
    "Looks like users from Astapor and Winterfell churned at a much higher rate than users from King's Landing"
   ]
  },
  {
   "cell_type": "code",
   "execution_count": 193,
   "id": "4cc862c7",
   "metadata": {},
   "outputs": [
    {
     "data": {
      "image/png": "[encoded data removed]",
      "text/plain": [
       "<Figure size 432x288 with 1 Axes>"
      ]
     },
     "metadata": {},
     "output_type": "display_data"
    }
   ],
   "source": [
    "fig = plt.figure()\n",
    "fig.patch.set_facecolor('white')\n",
    "ax = sns.countplot(x='ultimate_black_user', hue='retained', data=df2, palette='Greens_d')"
   ]
  },
  {
   "cell_type": "markdown",
   "id": "8644b2ab",
   "metadata": {},
   "source": [
    "It seems when users took an Ultimate Black ride in their first 30 days, their churn rate improved dramatically. It must be quite impressive for users to experience that. "
   ]
  },
  {
   "cell_type": "markdown",
   "id": "04b642aa",
   "metadata": {},
   "source": [
    "#### Pre-processing"
   ]
  },
  {
   "cell_type": "code",
   "execution_count": 194,
   "id": "b6d367fe",
   "metadata": {},
   "outputs": [],
   "source": [
    "def encode_and_bind(original_dataframe, feature_to_encode):\n",
    "    dummies = pd.get_dummies(original_dataframe[feature_to_encode])\n",
    "    res = pd.concat([original_dataframe, dummies], axis=1)\n",
    "    res = res.drop([feature_to_encode], axis=1)\n",
    "    return(res) "
   ]
  },
  {
   "cell_type": "code",
   "execution_count": 195,
   "id": "271921c3",
   "metadata": {},
   "outputs": [
    {
     "data": {
      "text/html": [
       "<div>\n",
       "<style scoped>\n",
       "    .dataframe tbody tr th:only-of-type {\n",
       "        vertical-align: middle;\n",
       "    }\n",
       "\n",
       "    .dataframe tbody tr th {\n",
       "        vertical-align: top;\n",
       "    }\n",
       "\n",
       "    .dataframe thead th {\n",
       "        text-align: right;\n",
       "    }\n",
       "</style>\n",
       "<table border=\"1\" class=\"dataframe\">\n",
       "  <thead>\n",
       "    <tr style=\"text-align: right;\">\n",
       "      <th></th>\n",
       "      <th>trips_in_first_30_days</th>\n",
       "      <th>avg_rating_of_driver</th>\n",
       "      <th>avg_surge</th>\n",
       "      <th>surge_pct</th>\n",
       "      <th>ultimate_black_user</th>\n",
       "      <th>weekday_pct</th>\n",
       "      <th>avg_dist</th>\n",
       "      <th>avg_rating_by_driver</th>\n",
       "      <th>retained</th>\n",
       "      <th>Astapor</th>\n",
       "      <th>King's Landing</th>\n",
       "      <th>Winterfell</th>\n",
       "      <th>Android</th>\n",
       "      <th>iPhone</th>\n",
       "    </tr>\n",
       "  </thead>\n",
       "  <tbody>\n",
       "    <tr>\n",
       "      <th>0</th>\n",
       "      <td>4</td>\n",
       "      <td>4.7</td>\n",
       "      <td>1.10</td>\n",
       "      <td>15.4</td>\n",
       "      <td>True</td>\n",
       "      <td>46.2</td>\n",
       "      <td>3.67</td>\n",
       "      <td>5.0</td>\n",
       "      <td>1</td>\n",
       "      <td>0</td>\n",
       "      <td>1</td>\n",
       "      <td>0</td>\n",
       "      <td>0</td>\n",
       "      <td>1</td>\n",
       "    </tr>\n",
       "    <tr>\n",
       "      <th>1</th>\n",
       "      <td>0</td>\n",
       "      <td>5.0</td>\n",
       "      <td>1.00</td>\n",
       "      <td>0.0</td>\n",
       "      <td>False</td>\n",
       "      <td>50.0</td>\n",
       "      <td>8.26</td>\n",
       "      <td>5.0</td>\n",
       "      <td>0</td>\n",
       "      <td>1</td>\n",
       "      <td>0</td>\n",
       "      <td>0</td>\n",
       "      <td>1</td>\n",
       "      <td>0</td>\n",
       "    </tr>\n",
       "    <tr>\n",
       "      <th>2</th>\n",
       "      <td>3</td>\n",
       "      <td>4.3</td>\n",
       "      <td>1.00</td>\n",
       "      <td>0.0</td>\n",
       "      <td>False</td>\n",
       "      <td>100.0</td>\n",
       "      <td>0.77</td>\n",
       "      <td>5.0</td>\n",
       "      <td>0</td>\n",
       "      <td>1</td>\n",
       "      <td>0</td>\n",
       "      <td>0</td>\n",
       "      <td>0</td>\n",
       "      <td>1</td>\n",
       "    </tr>\n",
       "    <tr>\n",
       "      <th>3</th>\n",
       "      <td>9</td>\n",
       "      <td>4.6</td>\n",
       "      <td>1.14</td>\n",
       "      <td>20.0</td>\n",
       "      <td>True</td>\n",
       "      <td>80.0</td>\n",
       "      <td>2.36</td>\n",
       "      <td>4.9</td>\n",
       "      <td>1</td>\n",
       "      <td>0</td>\n",
       "      <td>1</td>\n",
       "      <td>0</td>\n",
       "      <td>0</td>\n",
       "      <td>1</td>\n",
       "    </tr>\n",
       "    <tr>\n",
       "      <th>4</th>\n",
       "      <td>14</td>\n",
       "      <td>4.4</td>\n",
       "      <td>1.19</td>\n",
       "      <td>11.8</td>\n",
       "      <td>False</td>\n",
       "      <td>82.4</td>\n",
       "      <td>3.13</td>\n",
       "      <td>4.9</td>\n",
       "      <td>0</td>\n",
       "      <td>0</td>\n",
       "      <td>0</td>\n",
       "      <td>1</td>\n",
       "      <td>1</td>\n",
       "      <td>0</td>\n",
       "    </tr>\n",
       "    <tr>\n",
       "      <th>...</th>\n",
       "      <td>...</td>\n",
       "      <td>...</td>\n",
       "      <td>...</td>\n",
       "      <td>...</td>\n",
       "      <td>...</td>\n",
       "      <td>...</td>\n",
       "      <td>...</td>\n",
       "      <td>...</td>\n",
       "      <td>...</td>\n",
       "      <td>...</td>\n",
       "      <td>...</td>\n",
       "      <td>...</td>\n",
       "      <td>...</td>\n",
       "      <td>...</td>\n",
       "    </tr>\n",
       "    <tr>\n",
       "      <th>49995</th>\n",
       "      <td>0</td>\n",
       "      <td>5.0</td>\n",
       "      <td>1.00</td>\n",
       "      <td>0.0</td>\n",
       "      <td>False</td>\n",
       "      <td>100.0</td>\n",
       "      <td>5.63</td>\n",
       "      <td>4.2</td>\n",
       "      <td>1</td>\n",
       "      <td>0</td>\n",
       "      <td>1</td>\n",
       "      <td>0</td>\n",
       "      <td>0</td>\n",
       "      <td>1</td>\n",
       "    </tr>\n",
       "    <tr>\n",
       "      <th>49996</th>\n",
       "      <td>1</td>\n",
       "      <td>4.9</td>\n",
       "      <td>1.00</td>\n",
       "      <td>0.0</td>\n",
       "      <td>False</td>\n",
       "      <td>0.0</td>\n",
       "      <td>0.00</td>\n",
       "      <td>4.0</td>\n",
       "      <td>0</td>\n",
       "      <td>1</td>\n",
       "      <td>0</td>\n",
       "      <td>0</td>\n",
       "      <td>0</td>\n",
       "      <td>1</td>\n",
       "    </tr>\n",
       "    <tr>\n",
       "      <th>49997</th>\n",
       "      <td>0</td>\n",
       "      <td>5.0</td>\n",
       "      <td>1.00</td>\n",
       "      <td>0.0</td>\n",
       "      <td>True</td>\n",
       "      <td>100.0</td>\n",
       "      <td>3.86</td>\n",
       "      <td>5.0</td>\n",
       "      <td>0</td>\n",
       "      <td>0</td>\n",
       "      <td>0</td>\n",
       "      <td>1</td>\n",
       "      <td>1</td>\n",
       "      <td>0</td>\n",
       "    </tr>\n",
       "    <tr>\n",
       "      <th>49998</th>\n",
       "      <td>2</td>\n",
       "      <td>3.0</td>\n",
       "      <td>1.00</td>\n",
       "      <td>0.0</td>\n",
       "      <td>False</td>\n",
       "      <td>100.0</td>\n",
       "      <td>4.58</td>\n",
       "      <td>3.5</td>\n",
       "      <td>0</td>\n",
       "      <td>1</td>\n",
       "      <td>0</td>\n",
       "      <td>0</td>\n",
       "      <td>0</td>\n",
       "      <td>1</td>\n",
       "    </tr>\n",
       "    <tr>\n",
       "      <th>49999</th>\n",
       "      <td>0</td>\n",
       "      <td>4.9</td>\n",
       "      <td>1.00</td>\n",
       "      <td>0.0</td>\n",
       "      <td>False</td>\n",
       "      <td>0.0</td>\n",
       "      <td>3.49</td>\n",
       "      <td>5.0</td>\n",
       "      <td>0</td>\n",
       "      <td>1</td>\n",
       "      <td>0</td>\n",
       "      <td>0</td>\n",
       "      <td>1</td>\n",
       "      <td>0</td>\n",
       "    </tr>\n",
       "  </tbody>\n",
       "</table>\n",
       "<p>50000 rows × 14 columns</p>\n",
       "</div>"
      ],
      "text/plain": [
       "       trips_in_first_30_days  avg_rating_of_driver  avg_surge  surge_pct  \\\n",
       "0                           4                   4.7       1.10       15.4   \n",
       "1                           0                   5.0       1.00        0.0   \n",
       "2                           3                   4.3       1.00        0.0   \n",
       "3                           9                   4.6       1.14       20.0   \n",
       "4                          14                   4.4       1.19       11.8   \n",
       "...                       ...                   ...        ...        ...   \n",
       "49995                       0                   5.0       1.00        0.0   \n",
       "49996                       1                   4.9       1.00        0.0   \n",
       "49997                       0                   5.0       1.00        0.0   \n",
       "49998                       2                   3.0       1.00        0.0   \n",
       "49999                       0                   4.9       1.00        0.0   \n",
       "\n",
       "       ultimate_black_user  weekday_pct  avg_dist  avg_rating_by_driver  \\\n",
       "0                     True         46.2      3.67                   5.0   \n",
       "1                    False         50.0      8.26                   5.0   \n",
       "2                    False        100.0      0.77                   5.0   \n",
       "3                     True         80.0      2.36                   4.9   \n",
       "4                    False         82.4      3.13                   4.9   \n",
       "...                    ...          ...       ...                   ...   \n",
       "49995                False        100.0      5.63                   4.2   \n",
       "49996                False          0.0      0.00                   4.0   \n",
       "49997                 True        100.0      3.86                   5.0   \n",
       "49998                False        100.0      4.58                   3.5   \n",
       "49999                False          0.0      3.49                   5.0   \n",
       "\n",
       "       retained  Astapor  King's Landing  Winterfell  Android  iPhone  \n",
       "0             1        0               1           0        0       1  \n",
       "1             0        1               0           0        1       0  \n",
       "2             0        1               0           0        0       1  \n",
       "3             1        0               1           0        0       1  \n",
       "4             0        0               0           1        1       0  \n",
       "...         ...      ...             ...         ...      ...     ...  \n",
       "49995         1        0               1           0        0       1  \n",
       "49996         0        1               0           0        0       1  \n",
       "49997         0        0               0           1        1       0  \n",
       "49998         0        1               0           0        0       1  \n",
       "49999         0        1               0           0        1       0  \n",
       "\n",
       "[50000 rows x 14 columns]"
      ]
     },
     "execution_count": 195,
     "metadata": {},
     "output_type": "execute_result"
    }
   ],
   "source": [
    "df3 = encode_and_bind(encode_and_bind(df2, 'city'), 'phone').drop(['signup_date','last_trip_date'], axis=1)\n",
    "df3"
   ]
  },
  {
   "cell_type": "code",
   "execution_count": 204,
   "id": "06b8eb9c",
   "metadata": {},
   "outputs": [
    {
     "data": {
      "image/png": "[encoded data removed]",
      "text/plain": [
       "<Figure size 432x288 with 2 Axes>"
      ]
     },
     "metadata": {
      "needs_background": "light"
     },
     "output_type": "display_data"
    }
   ],
   "source": [
    "sns.heatmap(df3.corr());"
   ]
  },
  {
   "cell_type": "markdown",
   "id": "ad6c2e0c",
   "metadata": {},
   "source": [
    "From the above, we see confirmation of what we already found-- positive correlations in retained customers and customers from Kings Landing, customer with iPhone, customers who took an Ultimate Black in their first 30 days, and customers who took more trips in general in their first 30 days"
   ]
  },
  {
   "cell_type": "code",
   "execution_count": 196,
   "id": "76b7bb62",
   "metadata": {},
   "outputs": [
    {
     "name": "stdout",
     "output_type": "stream",
     "text": [
      "(50000, 13)\n",
      "(50000,)\n"
     ]
    }
   ],
   "source": [
    "# SPLIT DEPENDENT AND INDEPENDENT VARIABLES INTO X, Y\n",
    "\n",
    "X = df3.drop('retained', axis=1)\n",
    "y = df3['retained']\n",
    "print(X.shape)\n",
    "print(y.shape)"
   ]
  },
  {
   "cell_type": "code",
   "execution_count": 201,
   "id": "1fcd2965",
   "metadata": {},
   "outputs": [],
   "source": [
    "# MODELING PACKAGES\n",
    "from sklearn.model_selection import train_test_split\n",
    "from sklearn.ensemble import RandomForestClassifier\n",
    "from sklearn.metrics import classification_report"
   ]
  },
  {
   "cell_type": "code",
   "execution_count": 198,
   "id": "13af3ac8",
   "metadata": {},
   "outputs": [
    {
     "name": "stdout",
     "output_type": "stream",
     "text": [
      "(37500, 13) (12500, 13)\n",
      "(37500,) (12500,)\n"
     ]
    }
   ],
   "source": [
    "#Split data into Train and Test sets\n",
    "\n",
    "X_train, X_test, y_train, y_test = train_test_split(X, y, test_size=0.25, random_state=123)\n",
    "print(X_train.shape, X_test.shape)\n",
    "print(y_train.shape, y_test.shape)"
   ]
  },
  {
   "cell_type": "code",
   "execution_count": 199,
   "id": "f4c0e38b",
   "metadata": {},
   "outputs": [],
   "source": [
    "rf_model= RandomForestClassifier(random_state=123)\n",
    "rf_model.fit(X_train, y_train)\n",
    "y_pred_rf= rf_model.predict(X_test)"
   ]
  },
  {
   "cell_type": "code",
   "execution_count": 202,
   "id": "f15e4b00",
   "metadata": {},
   "outputs": [
    {
     "name": "stdout",
     "output_type": "stream",
     "text": [
      "              precision    recall  f1-score   support\n",
      "\n",
      "           0       0.80      0.82      0.81      7754\n",
      "           1       0.69      0.66      0.67      4746\n",
      "\n",
      "    accuracy                           0.76     12500\n",
      "   macro avg       0.74      0.74      0.74     12500\n",
      "weighted avg       0.76      0.76      0.76     12500\n",
      "\n"
     ]
    }
   ],
   "source": [
    "print(classification_report(y_test,y_pred_rf))"
   ]
  },
  {
   "cell_type": "markdown",
   "id": "b03fd5e6",
   "metadata": {},
   "source": [
    "This basic random forest model shows an 82% recall score for churned customers, or ability to predict churned customers correctly. Let's use it to predict which customers may leave in the next month, from the remaining non-churned customers we have"
   ]
  },
  {
   "cell_type": "code",
   "execution_count": 212,
   "id": "19eee172",
   "metadata": {},
   "outputs": [
    {
     "data": {
      "text/html": [
       "<div>\n",
       "<style scoped>\n",
       "    .dataframe tbody tr th:only-of-type {\n",
       "        vertical-align: middle;\n",
       "    }\n",
       "\n",
       "    .dataframe tbody tr th {\n",
       "        vertical-align: top;\n",
       "    }\n",
       "\n",
       "    .dataframe thead th {\n",
       "        text-align: right;\n",
       "    }\n",
       "</style>\n",
       "<table border=\"1\" class=\"dataframe\">\n",
       "  <thead>\n",
       "    <tr style=\"text-align: right;\">\n",
       "      <th></th>\n",
       "      <th>trips_in_first_30_days</th>\n",
       "      <th>avg_rating_of_driver</th>\n",
       "      <th>avg_surge</th>\n",
       "      <th>surge_pct</th>\n",
       "      <th>ultimate_black_user</th>\n",
       "      <th>weekday_pct</th>\n",
       "      <th>avg_dist</th>\n",
       "      <th>avg_rating_by_driver</th>\n",
       "      <th>Astapor</th>\n",
       "      <th>King's Landing</th>\n",
       "      <th>Winterfell</th>\n",
       "      <th>Android</th>\n",
       "      <th>iPhone</th>\n",
       "    </tr>\n",
       "  </thead>\n",
       "  <tbody>\n",
       "    <tr>\n",
       "      <th>0</th>\n",
       "      <td>4</td>\n",
       "      <td>4.7</td>\n",
       "      <td>1.10</td>\n",
       "      <td>15.4</td>\n",
       "      <td>True</td>\n",
       "      <td>46.2</td>\n",
       "      <td>3.67</td>\n",
       "      <td>5.0</td>\n",
       "      <td>0</td>\n",
       "      <td>1</td>\n",
       "      <td>0</td>\n",
       "      <td>0</td>\n",
       "      <td>1</td>\n",
       "    </tr>\n",
       "    <tr>\n",
       "      <th>1</th>\n",
       "      <td>9</td>\n",
       "      <td>4.6</td>\n",
       "      <td>1.14</td>\n",
       "      <td>20.0</td>\n",
       "      <td>True</td>\n",
       "      <td>80.0</td>\n",
       "      <td>2.36</td>\n",
       "      <td>4.9</td>\n",
       "      <td>0</td>\n",
       "      <td>1</td>\n",
       "      <td>0</td>\n",
       "      <td>0</td>\n",
       "      <td>1</td>\n",
       "    </tr>\n",
       "    <tr>\n",
       "      <th>2</th>\n",
       "      <td>2</td>\n",
       "      <td>3.5</td>\n",
       "      <td>1.00</td>\n",
       "      <td>0.0</td>\n",
       "      <td>True</td>\n",
       "      <td>100.0</td>\n",
       "      <td>10.56</td>\n",
       "      <td>5.0</td>\n",
       "      <td>0</td>\n",
       "      <td>0</td>\n",
       "      <td>1</td>\n",
       "      <td>0</td>\n",
       "      <td>1</td>\n",
       "    </tr>\n",
       "    <tr>\n",
       "      <th>3</th>\n",
       "      <td>0</td>\n",
       "      <td>4.0</td>\n",
       "      <td>1.38</td>\n",
       "      <td>50.0</td>\n",
       "      <td>False</td>\n",
       "      <td>50.0</td>\n",
       "      <td>3.04</td>\n",
       "      <td>5.0</td>\n",
       "      <td>0</td>\n",
       "      <td>1</td>\n",
       "      <td>0</td>\n",
       "      <td>0</td>\n",
       "      <td>1</td>\n",
       "    </tr>\n",
       "    <tr>\n",
       "      <th>4</th>\n",
       "      <td>1</td>\n",
       "      <td>5.0</td>\n",
       "      <td>1.00</td>\n",
       "      <td>0.0</td>\n",
       "      <td>True</td>\n",
       "      <td>50.0</td>\n",
       "      <td>10.86</td>\n",
       "      <td>3.0</td>\n",
       "      <td>0</td>\n",
       "      <td>1</td>\n",
       "      <td>0</td>\n",
       "      <td>1</td>\n",
       "      <td>0</td>\n",
       "    </tr>\n",
       "    <tr>\n",
       "      <th>...</th>\n",
       "      <td>...</td>\n",
       "      <td>...</td>\n",
       "      <td>...</td>\n",
       "      <td>...</td>\n",
       "      <td>...</td>\n",
       "      <td>...</td>\n",
       "      <td>...</td>\n",
       "      <td>...</td>\n",
       "      <td>...</td>\n",
       "      <td>...</td>\n",
       "      <td>...</td>\n",
       "      <td>...</td>\n",
       "      <td>...</td>\n",
       "    </tr>\n",
       "    <tr>\n",
       "      <th>18799</th>\n",
       "      <td>0</td>\n",
       "      <td>2.0</td>\n",
       "      <td>1.00</td>\n",
       "      <td>0.0</td>\n",
       "      <td>False</td>\n",
       "      <td>100.0</td>\n",
       "      <td>2.39</td>\n",
       "      <td>4.0</td>\n",
       "      <td>0</td>\n",
       "      <td>1</td>\n",
       "      <td>0</td>\n",
       "      <td>0</td>\n",
       "      <td>1</td>\n",
       "    </tr>\n",
       "    <tr>\n",
       "      <th>18800</th>\n",
       "      <td>1</td>\n",
       "      <td>4.5</td>\n",
       "      <td>1.00</td>\n",
       "      <td>0.0</td>\n",
       "      <td>False</td>\n",
       "      <td>50.0</td>\n",
       "      <td>2.53</td>\n",
       "      <td>5.0</td>\n",
       "      <td>0</td>\n",
       "      <td>1</td>\n",
       "      <td>0</td>\n",
       "      <td>0</td>\n",
       "      <td>1</td>\n",
       "    </tr>\n",
       "    <tr>\n",
       "      <th>18801</th>\n",
       "      <td>0</td>\n",
       "      <td>5.0</td>\n",
       "      <td>1.25</td>\n",
       "      <td>100.0</td>\n",
       "      <td>False</td>\n",
       "      <td>0.0</td>\n",
       "      <td>1.06</td>\n",
       "      <td>5.0</td>\n",
       "      <td>0</td>\n",
       "      <td>0</td>\n",
       "      <td>1</td>\n",
       "      <td>0</td>\n",
       "      <td>1</td>\n",
       "    </tr>\n",
       "    <tr>\n",
       "      <th>18802</th>\n",
       "      <td>3</td>\n",
       "      <td>4.8</td>\n",
       "      <td>1.11</td>\n",
       "      <td>11.1</td>\n",
       "      <td>True</td>\n",
       "      <td>55.6</td>\n",
       "      <td>2.53</td>\n",
       "      <td>4.7</td>\n",
       "      <td>1</td>\n",
       "      <td>0</td>\n",
       "      <td>0</td>\n",
       "      <td>0</td>\n",
       "      <td>1</td>\n",
       "    </tr>\n",
       "    <tr>\n",
       "      <th>18803</th>\n",
       "      <td>0</td>\n",
       "      <td>5.0</td>\n",
       "      <td>1.00</td>\n",
       "      <td>0.0</td>\n",
       "      <td>False</td>\n",
       "      <td>100.0</td>\n",
       "      <td>5.63</td>\n",
       "      <td>4.2</td>\n",
       "      <td>0</td>\n",
       "      <td>1</td>\n",
       "      <td>0</td>\n",
       "      <td>0</td>\n",
       "      <td>1</td>\n",
       "    </tr>\n",
       "  </tbody>\n",
       "</table>\n",
       "<p>18804 rows × 13 columns</p>\n",
       "</div>"
      ],
      "text/plain": [
       "       trips_in_first_30_days  avg_rating_of_driver  avg_surge  surge_pct  \\\n",
       "0                           4                   4.7       1.10       15.4   \n",
       "1                           9                   4.6       1.14       20.0   \n",
       "2                           2                   3.5       1.00        0.0   \n",
       "3                           0                   4.0       1.38       50.0   \n",
       "4                           1                   5.0       1.00        0.0   \n",
       "...                       ...                   ...        ...        ...   \n",
       "18799                       0                   2.0       1.00        0.0   \n",
       "18800                       1                   4.5       1.00        0.0   \n",
       "18801                       0                   5.0       1.25      100.0   \n",
       "18802                       3                   4.8       1.11       11.1   \n",
       "18803                       0                   5.0       1.00        0.0   \n",
       "\n",
       "       ultimate_black_user  weekday_pct  avg_dist  avg_rating_by_driver  \\\n",
       "0                     True         46.2      3.67                   5.0   \n",
       "1                     True         80.0      2.36                   4.9   \n",
       "2                     True        100.0     10.56                   5.0   \n",
       "3                    False         50.0      3.04                   5.0   \n",
       "4                     True         50.0     10.86                   3.0   \n",
       "...                    ...          ...       ...                   ...   \n",
       "18799                False        100.0      2.39                   4.0   \n",
       "18800                False         50.0      2.53                   5.0   \n",
       "18801                False          0.0      1.06                   5.0   \n",
       "18802                 True         55.6      2.53                   4.7   \n",
       "18803                False        100.0      5.63                   4.2   \n",
       "\n",
       "       Astapor  King's Landing  Winterfell  Android  iPhone  \n",
       "0            0               1           0        0       1  \n",
       "1            0               1           0        0       1  \n",
       "2            0               0           1        0       1  \n",
       "3            0               1           0        0       1  \n",
       "4            0               1           0        1       0  \n",
       "...        ...             ...         ...      ...     ...  \n",
       "18799        0               1           0        0       1  \n",
       "18800        0               1           0        0       1  \n",
       "18801        0               0           1        0       1  \n",
       "18802        1               0           0        0       1  \n",
       "18803        0               1           0        0       1  \n",
       "\n",
       "[18804 rows x 13 columns]"
      ]
     },
     "execution_count": 212,
     "metadata": {},
     "output_type": "execute_result"
    }
   ],
   "source": [
    "df_retain= df3[df3['retained'] == 1].drop('retained', axis=1)\n",
    "df_retain.reset_index(inplace=True, drop=True)\n",
    "df_retain"
   ]
  },
  {
   "cell_type": "code",
   "execution_count": 213,
   "id": "8bae2166",
   "metadata": {},
   "outputs": [],
   "source": [
    "y_pred_churn= rf_model.predict(df_retain)"
   ]
  },
  {
   "cell_type": "code",
   "execution_count": 214,
   "id": "97e43408",
   "metadata": {},
   "outputs": [],
   "source": [
    "df_retain['retain?'] = y_pred_churn"
   ]
  },
  {
   "cell_type": "code",
   "execution_count": 217,
   "id": "6d9770ac",
   "metadata": {},
   "outputs": [
    {
     "data": {
      "image/png": "[encoded data removed]",
      "text/plain": [
       "<Figure size 432x288 with 1 Axes>"
      ]
     },
     "metadata": {},
     "output_type": "display_data"
    }
   ],
   "source": [
    "fig = plt.figure()\n",
    "fig.patch.set_facecolor('white')\n",
    "ax = sns.countplot(x='retain?', data=df_retain, palette='Greens_d')\n",
    "ax.xaxis.set_ticklabels(['No', 'Yes']);\n",
    "plt.show()"
   ]
  },
  {
   "cell_type": "markdown",
   "id": "a5c87791",
   "metadata": {},
   "source": [
    "This is a very basic decision tree model, which should be able to handle the amount of features involved quite nicely. Other model types that could be used here might include LogisticRegressor or SVM. Concerns I would have about the model is the score is not great, and future scope could include engineering several more features using the data. "
   ]
  },
  {
   "cell_type": "markdown",
   "id": "4ea21626",
   "metadata": {},
   "source": [
    "The business insights I would focus on from this analysis would be what we learned about the positive correlation between retained users and what phone they use, how many rides they took in their first month, whether they took an Ultimate Black in their first month, and what town they're in. For each of these, some strategy could be employed to improve rider retention.\n",
    "1. Investigate the Android app for UX consistency with iPhone, and for app stability. Something in the app is detering user engagement.\n",
    "2. Investigate why customers from King's Landing are much more likely to be retained. Are there more or better drivers in King's Landing? Are routes better optimized due to town infrastructure? \n",
    "3. "
   ]
  }
 ],
 "metadata": {
  "kernelspec": {
   "display_name": "Python 3 (ipykernel)",
   "language": "python",
   "name": "python3"
  },
  "language_info": {
   "codemirror_mode": {
    "name": "ipython",
    "version": 3
   },
   "file_extension": ".py",
   "mimetype": "text/x-python",
   "name": "python",
   "nbconvert_exporter": "python",
   "pygments_lexer": "ipython3",
   "version": "3.9.7"
  }
 },
 "nbformat": 4,
 "nbformat_minor": 5
}
